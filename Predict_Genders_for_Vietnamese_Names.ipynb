{
  "nbformat": 4,
  "nbformat_minor": 0,
  "metadata": {
    "colab": {
      "name": "Predict Genders for  Vietnamese Names_Nhóm8.ipynb",
      "provenance": [],
      "toc_visible": true
    },
    "kernelspec": {
      "name": "python3",
      "display_name": "Python 3"
    },
    "language_info": {
      "name": "python"
    }
  },
  "cells": [
    {
      "cell_type": "code",
      "execution_count": 46,
      "metadata": {
        "colab": {
          "base_uri": "https://localhost:8080/"
        },
        "id": "mNV-zvuLAzMM",
        "outputId": "a4a37a98-9192-43fd-f739-3dd26e9080e7"
      },
      "outputs": [
        {
          "output_type": "stream",
          "name": "stdout",
          "text": [
            "Drive already mounted at /content/drive; to attempt to forcibly remount, call drive.mount(\"/content/drive\", force_remount=True).\n"
          ]
        }
      ],
      "source": [
        "from google.colab import drive\n",
        "drive.mount('/content/drive')"
      ]
    },
    {
      "cell_type": "code",
      "source": [
        "import numpy as np\n",
        "import pandas as pd\n",
        "DataFile=pd.read_csv(\"/content/drive/MyDrive/DoAnMayHoc/UIT-ViNames/UIT-ViNames - Full.csv\")"
      ],
      "metadata": {
        "id": "0skvYYfDBDt9"
      },
      "execution_count": 47,
      "outputs": []
    },
    {
      "cell_type": "code",
      "source": [
        "print(DataFile)\n",
        "print('Giới tính nam',int(DataFile[DataFile.Gender==1].size/2))\n",
        "print('Giới tính nữ',int(DataFile[DataFile.Gender==0].size/2))\n",
        "print('Điểm dữ liệu',len(DataFile))\n",
        "print('giá trị Null', DataFile.isnull().sum())"
      ],
      "metadata": {
        "colab": {
          "base_uri": "https://localhost:8080/"
        },
        "id": "jchD3dzNBD2O",
        "outputId": "3edfc556-8321-4d06-9e5c-05269acde9a6"
      },
      "execution_count": 48,
      "outputs": [
        {
          "output_type": "stream",
          "name": "stdout",
          "text": [
            "                  Full_Name  Gender\n",
            "0             Ngô Xuân Tùng       1\n",
            "1         Bùi Dương Thảo Vy       0\n",
            "2               Lưu Thế Huy       1\n",
            "3            Nguyễn Thị Vân       0\n",
            "4           Dương Minh Long       1\n",
            "...                     ...     ...\n",
            "26846      Đoàn Thị Bảo Thu       0\n",
            "26847            Ôn Hoa Thu       1\n",
            "26848  Nguyễn Thị Huỳnh Như       0\n",
            "26849  Nguyễn Thị Hồng Phúc       0\n",
            "26850         Dương Mỹ Uyên       0\n",
            "\n",
            "[26851 rows x 2 columns]\n",
            "Giới tính nam 15495\n",
            "Giới tính nữ 11356\n",
            "Điểm dữ liệu 26851\n",
            "giá trị Null Full_Name    0\n",
            "Gender       0\n",
            "dtype: int64\n"
          ]
        }
      ]
    },
    {
      "cell_type": "code",
      "source": [
        "DataFile.describe()"
      ],
      "metadata": {
        "colab": {
          "base_uri": "https://localhost:8080/",
          "height": 300
        },
        "id": "z3yP27yEBD7s",
        "outputId": "41be9e42-fead-4608-f7f9-6524b8ed87c4"
      },
      "execution_count": null,
      "outputs": [
        {
          "output_type": "execute_result",
          "data": {
            "text/html": [
              "\n",
              "  <div id=\"df-1bee0a6f-4b43-48eb-9dd0-b3753361ecdc\">\n",
              "    <div class=\"colab-df-container\">\n",
              "      <div>\n",
              "<style scoped>\n",
              "    .dataframe tbody tr th:only-of-type {\n",
              "        vertical-align: middle;\n",
              "    }\n",
              "\n",
              "    .dataframe tbody tr th {\n",
              "        vertical-align: top;\n",
              "    }\n",
              "\n",
              "    .dataframe thead th {\n",
              "        text-align: right;\n",
              "    }\n",
              "</style>\n",
              "<table border=\"1\" class=\"dataframe\">\n",
              "  <thead>\n",
              "    <tr style=\"text-align: right;\">\n",
              "      <th></th>\n",
              "      <th>Gender</th>\n",
              "    </tr>\n",
              "  </thead>\n",
              "  <tbody>\n",
              "    <tr>\n",
              "      <th>count</th>\n",
              "      <td>26851.000000</td>\n",
              "    </tr>\n",
              "    <tr>\n",
              "      <th>mean</th>\n",
              "      <td>0.577073</td>\n",
              "    </tr>\n",
              "    <tr>\n",
              "      <th>std</th>\n",
              "      <td>0.494033</td>\n",
              "    </tr>\n",
              "    <tr>\n",
              "      <th>min</th>\n",
              "      <td>0.000000</td>\n",
              "    </tr>\n",
              "    <tr>\n",
              "      <th>25%</th>\n",
              "      <td>0.000000</td>\n",
              "    </tr>\n",
              "    <tr>\n",
              "      <th>50%</th>\n",
              "      <td>1.000000</td>\n",
              "    </tr>\n",
              "    <tr>\n",
              "      <th>75%</th>\n",
              "      <td>1.000000</td>\n",
              "    </tr>\n",
              "    <tr>\n",
              "      <th>max</th>\n",
              "      <td>1.000000</td>\n",
              "    </tr>\n",
              "  </tbody>\n",
              "</table>\n",
              "</div>\n",
              "      <button class=\"colab-df-convert\" onclick=\"convertToInteractive('df-1bee0a6f-4b43-48eb-9dd0-b3753361ecdc')\"\n",
              "              title=\"Convert this dataframe to an interactive table.\"\n",
              "              style=\"display:none;\">\n",
              "        \n",
              "  <svg xmlns=\"http://www.w3.org/2000/svg\" height=\"24px\"viewBox=\"0 0 24 24\"\n",
              "       width=\"24px\">\n",
              "    <path d=\"M0 0h24v24H0V0z\" fill=\"none\"/>\n",
              "    <path d=\"M18.56 5.44l.94 2.06.94-2.06 2.06-.94-2.06-.94-.94-2.06-.94 2.06-2.06.94zm-11 1L8.5 8.5l.94-2.06 2.06-.94-2.06-.94L8.5 2.5l-.94 2.06-2.06.94zm10 10l.94 2.06.94-2.06 2.06-.94-2.06-.94-.94-2.06-.94 2.06-2.06.94z\"/><path d=\"M17.41 7.96l-1.37-1.37c-.4-.4-.92-.59-1.43-.59-.52 0-1.04.2-1.43.59L10.3 9.45l-7.72 7.72c-.78.78-.78 2.05 0 2.83L4 21.41c.39.39.9.59 1.41.59.51 0 1.02-.2 1.41-.59l7.78-7.78 2.81-2.81c.8-.78.8-2.07 0-2.86zM5.41 20L4 18.59l7.72-7.72 1.47 1.35L5.41 20z\"/>\n",
              "  </svg>\n",
              "      </button>\n",
              "      \n",
              "  <style>\n",
              "    .colab-df-container {\n",
              "      display:flex;\n",
              "      flex-wrap:wrap;\n",
              "      gap: 12px;\n",
              "    }\n",
              "\n",
              "    .colab-df-convert {\n",
              "      background-color: #E8F0FE;\n",
              "      border: none;\n",
              "      border-radius: 50%;\n",
              "      cursor: pointer;\n",
              "      display: none;\n",
              "      fill: #1967D2;\n",
              "      height: 32px;\n",
              "      padding: 0 0 0 0;\n",
              "      width: 32px;\n",
              "    }\n",
              "\n",
              "    .colab-df-convert:hover {\n",
              "      background-color: #E2EBFA;\n",
              "      box-shadow: 0px 1px 2px rgba(60, 64, 67, 0.3), 0px 1px 3px 1px rgba(60, 64, 67, 0.15);\n",
              "      fill: #174EA6;\n",
              "    }\n",
              "\n",
              "    [theme=dark] .colab-df-convert {\n",
              "      background-color: #3B4455;\n",
              "      fill: #D2E3FC;\n",
              "    }\n",
              "\n",
              "    [theme=dark] .colab-df-convert:hover {\n",
              "      background-color: #434B5C;\n",
              "      box-shadow: 0px 1px 3px 1px rgba(0, 0, 0, 0.15);\n",
              "      filter: drop-shadow(0px 1px 2px rgba(0, 0, 0, 0.3));\n",
              "      fill: #FFFFFF;\n",
              "    }\n",
              "  </style>\n",
              "\n",
              "      <script>\n",
              "        const buttonEl =\n",
              "          document.querySelector('#df-1bee0a6f-4b43-48eb-9dd0-b3753361ecdc button.colab-df-convert');\n",
              "        buttonEl.style.display =\n",
              "          google.colab.kernel.accessAllowed ? 'block' : 'none';\n",
              "\n",
              "        async function convertToInteractive(key) {\n",
              "          const element = document.querySelector('#df-1bee0a6f-4b43-48eb-9dd0-b3753361ecdc');\n",
              "          const dataTable =\n",
              "            await google.colab.kernel.invokeFunction('convertToInteractive',\n",
              "                                                     [key], {});\n",
              "          if (!dataTable) return;\n",
              "\n",
              "          const docLinkHtml = 'Like what you see? Visit the ' +\n",
              "            '<a target=\"_blank\" href=https://colab.research.google.com/notebooks/data_table.ipynb>data table notebook</a>'\n",
              "            + ' to learn more about interactive tables.';\n",
              "          element.innerHTML = '';\n",
              "          dataTable['output_type'] = 'display_data';\n",
              "          await google.colab.output.renderOutput(dataTable, element);\n",
              "          const docLink = document.createElement('div');\n",
              "          docLink.innerHTML = docLinkHtml;\n",
              "          element.appendChild(docLink);\n",
              "        }\n",
              "      </script>\n",
              "    </div>\n",
              "  </div>\n",
              "  "
            ],
            "text/plain": [
              "             Gender\n",
              "count  26851.000000\n",
              "mean       0.577073\n",
              "std        0.494033\n",
              "min        0.000000\n",
              "25%        0.000000\n",
              "50%        1.000000\n",
              "75%        1.000000\n",
              "max        1.000000"
            ]
          },
          "metadata": {},
          "execution_count": 5
        }
      ]
    },
    {
      "cell_type": "code",
      "source": [
        "File_Train=pd.read_csv(\"/content/drive/MyDrive/DoAnMayHoc/UIT-ViNames/UIT-ViNames - Train.csv\")\n",
        "File_Test=pd.read_csv(\"/content/drive/MyDrive/DoAnMayHoc/UIT-ViNames/UIT-ViNames-Test.csv\")\n",
        "File_Dev= pd.read_csv(\"/content/drive/MyDrive/DoAnMayHoc/UIT-ViNames/UIT-ViNames - Dev.csv\")"
      ],
      "metadata": {
        "id": "xJAj2DoLBMPw"
      },
      "execution_count": null,
      "outputs": []
    },
    {
      "cell_type": "code",
      "source": [
        "print(len(File_Train)/len(DataFile))\n",
        "print(len(File_Test)/len(DataFile))\n",
        "print(len(File_Dev)/len(DataFile))"
      ],
      "metadata": {
        "colab": {
          "base_uri": "https://localhost:8080/"
        },
        "id": "aDmKhrThBNik",
        "outputId": "a3122a45-ab09-469d-923d-a79c8c77eed1"
      },
      "execution_count": null,
      "outputs": [
        {
          "output_type": "stream",
          "name": "stdout",
          "text": [
            "0.699973930207441\n",
            "0.19999255148784031\n",
            "0.10003351830471863\n"
          ]
        }
      ]
    },
    {
      "cell_type": "markdown",
      "source": [
        "#Các hàm liên quan"
      ],
      "metadata": {
        "id": "uyJ2KBxVBuAl"
      }
    },
    {
      "cell_type": "code",
      "source": [
        "def Split_File(file):\n",
        "  i =0\n",
        "  file[\"First_Name\"]=file[\"Mid_Name\"]=file[\"Last_Name\"]=file.Full_Name\n",
        "  for FULL_NAME in file.Full_Name:\n",
        "    Name=FULL_NAME\n",
        "    Name_Split= Name.split()\n",
        "    file.First_Name[i]=Name_Split[0]\n",
        "    file.Mid_Name[i]=str(Name_Split[1:-1])\n",
        "    file.Last_Name[i]=Name_Split[-1]\n",
        "    i=i+1"
      ],
      "metadata": {
        "id": "pdMd9lL6BxCN"
      },
      "execution_count": null,
      "outputs": []
    },
    {
      "cell_type": "code",
      "source": [
        "def CountFa_Names(Fa_Name): # đếm số Họ có trong Datafile.\n",
        "  i =0\n",
        "  for x in DataFile.First_Name:\n",
        "    if str(x)==Fa_Name or str(x)==Fa_Name:\n",
        "      i+=1\n",
        "  print(i)\n"
      ],
      "metadata": {
        "id": "cuF2LBMyBxEc"
      },
      "execution_count": null,
      "outputs": []
    },
    {
      "cell_type": "code",
      "source": [
        "import csv\n",
        "def Out_CSV(Model,Name_out):# xuất file CSV những kết quả sai của mô hình, đầu vào là kết quả của mô hình sau khi dự đoán, tên file out.\n",
        "  writer = csv.writer(open(\"/content/drive/MyDrive/DoAnMayHoc/\"+str(Name_out)+\".csv\", 'w'))\n",
        "  writer.writerow([\"Full_Names\",\"Gender_Predicted\",\"Gender_True\"])\n",
        "  i=0\n",
        "  for x in Model:\n",
        "    if (x != File_Test.Gender[i]):\n",
        "      writer.writerow([File_Test.Full_Names[i],x,File_Test.Gender[i]])\n",
        "    i+=1"
      ],
      "metadata": {
        "id": "bl1imxluBxGk"
      },
      "execution_count": null,
      "outputs": []
    },
    {
      "cell_type": "code",
      "source": [
        "def gender_trans(Model,name): # Dự đoán giới tính\n",
        "    Name = [name]\n",
        "    vector = cv.transform(Name).toarray()\n",
        "    if Model.predict(vector) == 1:\n",
        "        print(\"Giới Tính: Nam\")\n",
        "    else:\n",
        "        print(\"Giới Tính: Nữ\")"
      ],
      "metadata": {
        "id": "pFnVYz5mBxIt"
      },
      "execution_count": null,
      "outputs": []
    },
    {
      "cell_type": "code",
      "source": [
        "def lowertext(file):\n",
        "  i=0\n",
        "  for x in file.Full_Names:\n",
        "    file.Full_Names[i]=x.lower()\n",
        "    i+=1"
      ],
      "metadata": {
        "id": "vu4eo8S4ikvP"
      },
      "execution_count": 78,
      "outputs": []
    },
    {
      "cell_type": "markdown",
      "source": [
        "#Chuẩn bị dữ liệu"
      ],
      "metadata": {
        "id": "oCnLxAPaBaT3"
      }
    },
    {
      "cell_type": "code",
      "source": [
        "Split_File(DataFile)"
      ],
      "metadata": {
        "colab": {
          "base_uri": "https://localhost:8080/"
        },
        "id": "tDXxcutqBNnN",
        "outputId": "9c35531e-1812-41af-96de-44f703a9b8e1"
      },
      "execution_count": null,
      "outputs": [
        {
          "output_type": "stream",
          "name": "stderr",
          "text": [
            "/usr/local/lib/python3.7/dist-packages/ipykernel_launcher.py:7: SettingWithCopyWarning: \n",
            "A value is trying to be set on a copy of a slice from a DataFrame\n",
            "\n",
            "See the caveats in the documentation: https://pandas.pydata.org/pandas-docs/stable/user_guide/indexing.html#returning-a-view-versus-a-copy\n",
            "  import sys\n",
            "/usr/local/lib/python3.7/dist-packages/ipykernel_launcher.py:8: SettingWithCopyWarning: \n",
            "A value is trying to be set on a copy of a slice from a DataFrame\n",
            "\n",
            "See the caveats in the documentation: https://pandas.pydata.org/pandas-docs/stable/user_guide/indexing.html#returning-a-view-versus-a-copy\n",
            "  \n",
            "/usr/local/lib/python3.7/dist-packages/ipykernel_launcher.py:9: SettingWithCopyWarning: \n",
            "A value is trying to be set on a copy of a slice from a DataFrame\n",
            "\n",
            "See the caveats in the documentation: https://pandas.pydata.org/pandas-docs/stable/user_guide/indexing.html#returning-a-view-versus-a-copy\n",
            "  if __name__ == '__main__':\n"
          ]
        }
      ]
    },
    {
      "cell_type": "code",
      "source": [
        "DataFile"
      ],
      "metadata": {
        "colab": {
          "base_uri": "https://localhost:8080/",
          "height": 423
        },
        "id": "Xan_uGugDPbD",
        "outputId": "3a9026b7-028f-4fb4-b7b7-c3599df4fdc1"
      },
      "execution_count": null,
      "outputs": [
        {
          "output_type": "execute_result",
          "data": {
            "text/html": [
              "\n",
              "  <div id=\"df-97224792-6ee9-4b55-b6f9-4ef198896a52\">\n",
              "    <div class=\"colab-df-container\">\n",
              "      <div>\n",
              "<style scoped>\n",
              "    .dataframe tbody tr th:only-of-type {\n",
              "        vertical-align: middle;\n",
              "    }\n",
              "\n",
              "    .dataframe tbody tr th {\n",
              "        vertical-align: top;\n",
              "    }\n",
              "\n",
              "    .dataframe thead th {\n",
              "        text-align: right;\n",
              "    }\n",
              "</style>\n",
              "<table border=\"1\" class=\"dataframe\">\n",
              "  <thead>\n",
              "    <tr style=\"text-align: right;\">\n",
              "      <th></th>\n",
              "      <th>Full_Name</th>\n",
              "      <th>Gender</th>\n",
              "      <th>First_Name</th>\n",
              "      <th>Mid_Name</th>\n",
              "      <th>Last_Name</th>\n",
              "    </tr>\n",
              "  </thead>\n",
              "  <tbody>\n",
              "    <tr>\n",
              "      <th>0</th>\n",
              "      <td>Ngô Xuân Tùng</td>\n",
              "      <td>1</td>\n",
              "      <td>Ngô</td>\n",
              "      <td>['Xuân']</td>\n",
              "      <td>Tùng</td>\n",
              "    </tr>\n",
              "    <tr>\n",
              "      <th>1</th>\n",
              "      <td>Bùi Dương Thảo Vy</td>\n",
              "      <td>0</td>\n",
              "      <td>Bùi</td>\n",
              "      <td>['Dương', 'Thảo']</td>\n",
              "      <td>Vy</td>\n",
              "    </tr>\n",
              "    <tr>\n",
              "      <th>2</th>\n",
              "      <td>Lưu Thế Huy</td>\n",
              "      <td>1</td>\n",
              "      <td>Lưu</td>\n",
              "      <td>['Thế']</td>\n",
              "      <td>Huy</td>\n",
              "    </tr>\n",
              "    <tr>\n",
              "      <th>3</th>\n",
              "      <td>Nguyễn Thị Vân</td>\n",
              "      <td>0</td>\n",
              "      <td>Nguyễn</td>\n",
              "      <td>['Thị']</td>\n",
              "      <td>Vân</td>\n",
              "    </tr>\n",
              "    <tr>\n",
              "      <th>4</th>\n",
              "      <td>Dương Minh Long</td>\n",
              "      <td>1</td>\n",
              "      <td>Dương</td>\n",
              "      <td>['Minh']</td>\n",
              "      <td>Long</td>\n",
              "    </tr>\n",
              "    <tr>\n",
              "      <th>...</th>\n",
              "      <td>...</td>\n",
              "      <td>...</td>\n",
              "      <td>...</td>\n",
              "      <td>...</td>\n",
              "      <td>...</td>\n",
              "    </tr>\n",
              "    <tr>\n",
              "      <th>26846</th>\n",
              "      <td>Đoàn Thị Bảo Thu</td>\n",
              "      <td>0</td>\n",
              "      <td>Đoàn</td>\n",
              "      <td>['Thị', 'Bảo']</td>\n",
              "      <td>Thu</td>\n",
              "    </tr>\n",
              "    <tr>\n",
              "      <th>26847</th>\n",
              "      <td>Ôn Hoa Thu</td>\n",
              "      <td>1</td>\n",
              "      <td>Ôn</td>\n",
              "      <td>['Hoa']</td>\n",
              "      <td>Thu</td>\n",
              "    </tr>\n",
              "    <tr>\n",
              "      <th>26848</th>\n",
              "      <td>Nguyễn Thị Huỳnh Như</td>\n",
              "      <td>0</td>\n",
              "      <td>Nguyễn</td>\n",
              "      <td>['Thị', 'Huỳnh']</td>\n",
              "      <td>Như</td>\n",
              "    </tr>\n",
              "    <tr>\n",
              "      <th>26849</th>\n",
              "      <td>Nguyễn Thị Hồng Phúc</td>\n",
              "      <td>0</td>\n",
              "      <td>Nguyễn</td>\n",
              "      <td>['Thị', 'Hồng']</td>\n",
              "      <td>Phúc</td>\n",
              "    </tr>\n",
              "    <tr>\n",
              "      <th>26850</th>\n",
              "      <td>Dương Mỹ Uyên</td>\n",
              "      <td>0</td>\n",
              "      <td>Dương</td>\n",
              "      <td>['Mỹ']</td>\n",
              "      <td>Uyên</td>\n",
              "    </tr>\n",
              "  </tbody>\n",
              "</table>\n",
              "<p>26851 rows × 5 columns</p>\n",
              "</div>\n",
              "      <button class=\"colab-df-convert\" onclick=\"convertToInteractive('df-97224792-6ee9-4b55-b6f9-4ef198896a52')\"\n",
              "              title=\"Convert this dataframe to an interactive table.\"\n",
              "              style=\"display:none;\">\n",
              "        \n",
              "  <svg xmlns=\"http://www.w3.org/2000/svg\" height=\"24px\"viewBox=\"0 0 24 24\"\n",
              "       width=\"24px\">\n",
              "    <path d=\"M0 0h24v24H0V0z\" fill=\"none\"/>\n",
              "    <path d=\"M18.56 5.44l.94 2.06.94-2.06 2.06-.94-2.06-.94-.94-2.06-.94 2.06-2.06.94zm-11 1L8.5 8.5l.94-2.06 2.06-.94-2.06-.94L8.5 2.5l-.94 2.06-2.06.94zm10 10l.94 2.06.94-2.06 2.06-.94-2.06-.94-.94-2.06-.94 2.06-2.06.94z\"/><path d=\"M17.41 7.96l-1.37-1.37c-.4-.4-.92-.59-1.43-.59-.52 0-1.04.2-1.43.59L10.3 9.45l-7.72 7.72c-.78.78-.78 2.05 0 2.83L4 21.41c.39.39.9.59 1.41.59.51 0 1.02-.2 1.41-.59l7.78-7.78 2.81-2.81c.8-.78.8-2.07 0-2.86zM5.41 20L4 18.59l7.72-7.72 1.47 1.35L5.41 20z\"/>\n",
              "  </svg>\n",
              "      </button>\n",
              "      \n",
              "  <style>\n",
              "    .colab-df-container {\n",
              "      display:flex;\n",
              "      flex-wrap:wrap;\n",
              "      gap: 12px;\n",
              "    }\n",
              "\n",
              "    .colab-df-convert {\n",
              "      background-color: #E8F0FE;\n",
              "      border: none;\n",
              "      border-radius: 50%;\n",
              "      cursor: pointer;\n",
              "      display: none;\n",
              "      fill: #1967D2;\n",
              "      height: 32px;\n",
              "      padding: 0 0 0 0;\n",
              "      width: 32px;\n",
              "    }\n",
              "\n",
              "    .colab-df-convert:hover {\n",
              "      background-color: #E2EBFA;\n",
              "      box-shadow: 0px 1px 2px rgba(60, 64, 67, 0.3), 0px 1px 3px 1px rgba(60, 64, 67, 0.15);\n",
              "      fill: #174EA6;\n",
              "    }\n",
              "\n",
              "    [theme=dark] .colab-df-convert {\n",
              "      background-color: #3B4455;\n",
              "      fill: #D2E3FC;\n",
              "    }\n",
              "\n",
              "    [theme=dark] .colab-df-convert:hover {\n",
              "      background-color: #434B5C;\n",
              "      box-shadow: 0px 1px 3px 1px rgba(0, 0, 0, 0.15);\n",
              "      filter: drop-shadow(0px 1px 2px rgba(0, 0, 0, 0.3));\n",
              "      fill: #FFFFFF;\n",
              "    }\n",
              "  </style>\n",
              "\n",
              "      <script>\n",
              "        const buttonEl =\n",
              "          document.querySelector('#df-97224792-6ee9-4b55-b6f9-4ef198896a52 button.colab-df-convert');\n",
              "        buttonEl.style.display =\n",
              "          google.colab.kernel.accessAllowed ? 'block' : 'none';\n",
              "\n",
              "        async function convertToInteractive(key) {\n",
              "          const element = document.querySelector('#df-97224792-6ee9-4b55-b6f9-4ef198896a52');\n",
              "          const dataTable =\n",
              "            await google.colab.kernel.invokeFunction('convertToInteractive',\n",
              "                                                     [key], {});\n",
              "          if (!dataTable) return;\n",
              "\n",
              "          const docLinkHtml = 'Like what you see? Visit the ' +\n",
              "            '<a target=\"_blank\" href=https://colab.research.google.com/notebooks/data_table.ipynb>data table notebook</a>'\n",
              "            + ' to learn more about interactive tables.';\n",
              "          element.innerHTML = '';\n",
              "          dataTable['output_type'] = 'display_data';\n",
              "          await google.colab.output.renderOutput(dataTable, element);\n",
              "          const docLink = document.createElement('div');\n",
              "          docLink.innerHTML = docLinkHtml;\n",
              "          element.appendChild(docLink);\n",
              "        }\n",
              "      </script>\n",
              "    </div>\n",
              "  </div>\n",
              "  "
            ],
            "text/plain": [
              "                  Full_Name  Gender First_Name           Mid_Name Last_Name\n",
              "0             Ngô Xuân Tùng       1        Ngô           ['Xuân']      Tùng\n",
              "1         Bùi Dương Thảo Vy       0        Bùi  ['Dương', 'Thảo']        Vy\n",
              "2               Lưu Thế Huy       1        Lưu            ['Thế']       Huy\n",
              "3            Nguyễn Thị Vân       0     Nguyễn            ['Thị']       Vân\n",
              "4           Dương Minh Long       1      Dương           ['Minh']      Long\n",
              "...                     ...     ...        ...                ...       ...\n",
              "26846      Đoàn Thị Bảo Thu       0       Đoàn     ['Thị', 'Bảo']       Thu\n",
              "26847            Ôn Hoa Thu       1         Ôn            ['Hoa']       Thu\n",
              "26848  Nguyễn Thị Huỳnh Như       0     Nguyễn   ['Thị', 'Huỳnh']       Như\n",
              "26849  Nguyễn Thị Hồng Phúc       0     Nguyễn    ['Thị', 'Hồng']      Phúc\n",
              "26850         Dương Mỹ Uyên       0      Dương             ['Mỹ']      Uyên\n",
              "\n",
              "[26851 rows x 5 columns]"
            ]
          },
          "metadata": {},
          "execution_count": 13
        }
      ]
    },
    {
      "cell_type": "code",
      "source": [
        "lowertext(File_Train)"
      ],
      "metadata": {
        "colab": {
          "base_uri": "https://localhost:8080/"
        },
        "id": "aktdxOQKin8R",
        "outputId": "01abdb89-1a6b-4d88-e5f5-61bd06126a8c"
      },
      "execution_count": 79,
      "outputs": [
        {
          "output_type": "stream",
          "name": "stderr",
          "text": [
            "/usr/local/lib/python3.7/dist-packages/ipykernel_launcher.py:4: SettingWithCopyWarning: \n",
            "A value is trying to be set on a copy of a slice from a DataFrame\n",
            "\n",
            "See the caveats in the documentation: https://pandas.pydata.org/pandas-docs/stable/user_guide/indexing.html#returning-a-view-versus-a-copy\n",
            "  after removing the cwd from sys.path.\n"
          ]
        }
      ]
    },
    {
      "cell_type": "code",
      "source": [
        "File_Train"
      ],
      "metadata": {
        "colab": {
          "base_uri": "https://localhost:8080/",
          "height": 423
        },
        "id": "1TGWif8WjlrQ",
        "outputId": "f497add7-38ec-451f-ea51-9a683be7aba8"
      },
      "execution_count": 100,
      "outputs": [
        {
          "output_type": "execute_result",
          "data": {
            "text/html": [
              "\n",
              "  <div id=\"df-5c372afe-a257-4d48-9ead-01da36ec46f6\">\n",
              "    <div class=\"colab-df-container\">\n",
              "      <div>\n",
              "<style scoped>\n",
              "    .dataframe tbody tr th:only-of-type {\n",
              "        vertical-align: middle;\n",
              "    }\n",
              "\n",
              "    .dataframe tbody tr th {\n",
              "        vertical-align: top;\n",
              "    }\n",
              "\n",
              "    .dataframe thead th {\n",
              "        text-align: right;\n",
              "    }\n",
              "</style>\n",
              "<table border=\"1\" class=\"dataframe\">\n",
              "  <thead>\n",
              "    <tr style=\"text-align: right;\">\n",
              "      <th></th>\n",
              "      <th>Full_Names</th>\n",
              "      <th>Gender</th>\n",
              "    </tr>\n",
              "  </thead>\n",
              "  <tbody>\n",
              "    <tr>\n",
              "      <th>0</th>\n",
              "      <td>ngô xuân tùng</td>\n",
              "      <td>1</td>\n",
              "    </tr>\n",
              "    <tr>\n",
              "      <th>1</th>\n",
              "      <td>bùi dương thảo vy</td>\n",
              "      <td>0</td>\n",
              "    </tr>\n",
              "    <tr>\n",
              "      <th>2</th>\n",
              "      <td>lưu thế huy</td>\n",
              "      <td>1</td>\n",
              "    </tr>\n",
              "    <tr>\n",
              "      <th>3</th>\n",
              "      <td>nguyễn thị vân</td>\n",
              "      <td>0</td>\n",
              "    </tr>\n",
              "    <tr>\n",
              "      <th>4</th>\n",
              "      <td>dương minh long</td>\n",
              "      <td>1</td>\n",
              "    </tr>\n",
              "    <tr>\n",
              "      <th>...</th>\n",
              "      <td>...</td>\n",
              "      <td>...</td>\n",
              "    </tr>\n",
              "    <tr>\n",
              "      <th>18790</th>\n",
              "      <td>trần nguyễn tường vy</td>\n",
              "      <td>0</td>\n",
              "    </tr>\n",
              "    <tr>\n",
              "      <th>18791</th>\n",
              "      <td>phan hải âu</td>\n",
              "      <td>1</td>\n",
              "    </tr>\n",
              "    <tr>\n",
              "      <th>18792</th>\n",
              "      <td>phạm trương trúc phương</td>\n",
              "      <td>0</td>\n",
              "    </tr>\n",
              "    <tr>\n",
              "      <th>18793</th>\n",
              "      <td>nguyễn diệu hiền</td>\n",
              "      <td>0</td>\n",
              "    </tr>\n",
              "    <tr>\n",
              "      <th>18794</th>\n",
              "      <td>nguyễn đoàn thảo nhi</td>\n",
              "      <td>0</td>\n",
              "    </tr>\n",
              "  </tbody>\n",
              "</table>\n",
              "<p>18795 rows × 2 columns</p>\n",
              "</div>\n",
              "      <button class=\"colab-df-convert\" onclick=\"convertToInteractive('df-5c372afe-a257-4d48-9ead-01da36ec46f6')\"\n",
              "              title=\"Convert this dataframe to an interactive table.\"\n",
              "              style=\"display:none;\">\n",
              "        \n",
              "  <svg xmlns=\"http://www.w3.org/2000/svg\" height=\"24px\"viewBox=\"0 0 24 24\"\n",
              "       width=\"24px\">\n",
              "    <path d=\"M0 0h24v24H0V0z\" fill=\"none\"/>\n",
              "    <path d=\"M18.56 5.44l.94 2.06.94-2.06 2.06-.94-2.06-.94-.94-2.06-.94 2.06-2.06.94zm-11 1L8.5 8.5l.94-2.06 2.06-.94-2.06-.94L8.5 2.5l-.94 2.06-2.06.94zm10 10l.94 2.06.94-2.06 2.06-.94-2.06-.94-.94-2.06-.94 2.06-2.06.94z\"/><path d=\"M17.41 7.96l-1.37-1.37c-.4-.4-.92-.59-1.43-.59-.52 0-1.04.2-1.43.59L10.3 9.45l-7.72 7.72c-.78.78-.78 2.05 0 2.83L4 21.41c.39.39.9.59 1.41.59.51 0 1.02-.2 1.41-.59l7.78-7.78 2.81-2.81c.8-.78.8-2.07 0-2.86zM5.41 20L4 18.59l7.72-7.72 1.47 1.35L5.41 20z\"/>\n",
              "  </svg>\n",
              "      </button>\n",
              "      \n",
              "  <style>\n",
              "    .colab-df-container {\n",
              "      display:flex;\n",
              "      flex-wrap:wrap;\n",
              "      gap: 12px;\n",
              "    }\n",
              "\n",
              "    .colab-df-convert {\n",
              "      background-color: #E8F0FE;\n",
              "      border: none;\n",
              "      border-radius: 50%;\n",
              "      cursor: pointer;\n",
              "      display: none;\n",
              "      fill: #1967D2;\n",
              "      height: 32px;\n",
              "      padding: 0 0 0 0;\n",
              "      width: 32px;\n",
              "    }\n",
              "\n",
              "    .colab-df-convert:hover {\n",
              "      background-color: #E2EBFA;\n",
              "      box-shadow: 0px 1px 2px rgba(60, 64, 67, 0.3), 0px 1px 3px 1px rgba(60, 64, 67, 0.15);\n",
              "      fill: #174EA6;\n",
              "    }\n",
              "\n",
              "    [theme=dark] .colab-df-convert {\n",
              "      background-color: #3B4455;\n",
              "      fill: #D2E3FC;\n",
              "    }\n",
              "\n",
              "    [theme=dark] .colab-df-convert:hover {\n",
              "      background-color: #434B5C;\n",
              "      box-shadow: 0px 1px 3px 1px rgba(0, 0, 0, 0.15);\n",
              "      filter: drop-shadow(0px 1px 2px rgba(0, 0, 0, 0.3));\n",
              "      fill: #FFFFFF;\n",
              "    }\n",
              "  </style>\n",
              "\n",
              "      <script>\n",
              "        const buttonEl =\n",
              "          document.querySelector('#df-5c372afe-a257-4d48-9ead-01da36ec46f6 button.colab-df-convert');\n",
              "        buttonEl.style.display =\n",
              "          google.colab.kernel.accessAllowed ? 'block' : 'none';\n",
              "\n",
              "        async function convertToInteractive(key) {\n",
              "          const element = document.querySelector('#df-5c372afe-a257-4d48-9ead-01da36ec46f6');\n",
              "          const dataTable =\n",
              "            await google.colab.kernel.invokeFunction('convertToInteractive',\n",
              "                                                     [key], {});\n",
              "          if (!dataTable) return;\n",
              "\n",
              "          const docLinkHtml = 'Like what you see? Visit the ' +\n",
              "            '<a target=\"_blank\" href=https://colab.research.google.com/notebooks/data_table.ipynb>data table notebook</a>'\n",
              "            + ' to learn more about interactive tables.';\n",
              "          element.innerHTML = '';\n",
              "          dataTable['output_type'] = 'display_data';\n",
              "          await google.colab.output.renderOutput(dataTable, element);\n",
              "          const docLink = document.createElement('div');\n",
              "          docLink.innerHTML = docLinkHtml;\n",
              "          element.appendChild(docLink);\n",
              "        }\n",
              "      </script>\n",
              "    </div>\n",
              "  </div>\n",
              "  "
            ],
            "text/plain": [
              "                    Full_Names  Gender\n",
              "0                ngô xuân tùng       1\n",
              "1            bùi dương thảo vy       0\n",
              "2                  lưu thế huy       1\n",
              "3               nguyễn thị vân       0\n",
              "4              dương minh long       1\n",
              "...                        ...     ...\n",
              "18790     trần nguyễn tường vy       0\n",
              "18791              phan hải âu       1\n",
              "18792  phạm trương trúc phương       0\n",
              "18793         nguyễn diệu hiền       0\n",
              "18794     nguyễn đoàn thảo nhi       0\n",
              "\n",
              "[18795 rows x 2 columns]"
            ]
          },
          "metadata": {},
          "execution_count": 100
        }
      ]
    },
    {
      "cell_type": "code",
      "source": [
        "from sklearn.feature_extraction.text import CountVectorizer\n",
        "cv = CountVectorizer()\n",
        "X_train = cv.fit_transform(File_Train.Full_Names)\n",
        "y_train = File_Train.Gender\n",
        "X_test = cv.transform(File_Test.Full_Names)\n",
        "y_test = File_Test.Gender"
      ],
      "metadata": {
        "id": "ow7cdQlkDuYN"
      },
      "execution_count": 81,
      "outputs": []
    },
    {
      "cell_type": "code",
      "source": [
        "# hiển thị một số thông tin về dữ liệu \n",
        "print(\"Dữ liệu training = \", X_train.shape, y_train.shape)\n",
        "print(\"Dữ liệu testing = \", X_test.shape, y_test.shape)"
      ],
      "metadata": {
        "colab": {
          "base_uri": "https://localhost:8080/"
        },
        "id": "q5ovlIQ5Duan",
        "outputId": "f0eebe32-32c4-4927-acd6-6d290a09215e"
      },
      "execution_count": 82,
      "outputs": [
        {
          "output_type": "stream",
          "name": "stdout",
          "text": [
            "Dữ liệu training =  (18795, 1292) (18795,)\n",
            "Dữ liệu testing =  (5370, 1292) (5370,)\n"
          ]
        }
      ]
    },
    {
      "cell_type": "markdown",
      "source": [
        "#Mô hình"
      ],
      "metadata": {
        "id": "sDD3Zl_aEdQX"
      }
    },
    {
      "cell_type": "markdown",
      "source": [
        "## NB"
      ],
      "metadata": {
        "id": "xxyKzH4TEfvW"
      }
    },
    {
      "cell_type": "code",
      "source": [
        "from sklearn.naive_bayes import MultinomialNB\n",
        "#train\n",
        "print(\"- Training ...\")\n",
        "model_NB = MultinomialNB()\n",
        "model_NB.fit(X_train,y_train)\n",
        "print(\"- model - train complete\")"
      ],
      "metadata": {
        "colab": {
          "base_uri": "https://localhost:8080/"
        },
        "id": "5uRPR51CEe6m",
        "outputId": "e3dbac95-fc9d-4fba-a72f-2a94b57e7f85"
      },
      "execution_count": 83,
      "outputs": [
        {
          "output_type": "stream",
          "name": "stdout",
          "text": [
            "- Training ...\n",
            "- model - train complete\n"
          ]
        }
      ]
    },
    {
      "cell_type": "code",
      "source": [
        "print(\"- Predict ...\")\n",
        "Pre_NB=model_NB.predict(X_test)"
      ],
      "metadata": {
        "colab": {
          "base_uri": "https://localhost:8080/"
        },
        "id": "AvfsS-kQQX0_",
        "outputId": "3fcad450-2083-487f-b3fc-4916ee8fabbf"
      },
      "execution_count": null,
      "outputs": [
        {
          "output_type": "stream",
          "name": "stdout",
          "text": [
            "- Predict ...\n"
          ]
        }
      ]
    },
    {
      "cell_type": "code",
      "source": [
        "from sklearn.metrics import accuracy_score, precision_score, recall_score, f1_score, confusion_matrix\n",
        "print(\"Accuracy: \" + str(accuracy_score(y_test, Pre_NB)))\n",
        "print(\"Precision: \" + str(precision_score(y_test, Pre_NB)))\n",
        "print(\"Recall: \" + str(recall_score(y_test, Pre_NB)))\n",
        "print(\"F1-micro: \" + str(f1_score(y_test, Pre_NB)))\n",
        "print(\"F1-macro: \" + str(f1_score(y_test, Pre_NB, average='macro')))\n",
        "cf = confusion_matrix(y_test, Pre_NB)\n"
      ],
      "metadata": {
        "colab": {
          "base_uri": "https://localhost:8080/"
        },
        "id": "95Ro89vjGP_O",
        "outputId": "5076416f-b52b-4883-8074-8b160ec5d559"
      },
      "execution_count": null,
      "outputs": [
        {
          "output_type": "stream",
          "name": "stdout",
          "text": [
            "Accuracy: 0.9493482309124768\n",
            "Precision: 0.9558584875040571\n",
            "Recall: 0.9558584875040571\n",
            "F1-micro: 0.9558584875040571\n",
            "F1-macro: 0.948221947989687\n"
          ]
        }
      ]
    },
    {
      "cell_type": "code",
      "source": [
        "from sklearn.metrics import classification_report\n",
        "print(classification_report(y_test, Pre_NB,digits=4)) "
      ],
      "metadata": {
        "colab": {
          "base_uri": "https://localhost:8080/"
        },
        "id": "qhmVVzcjEe82",
        "outputId": "3e46e1e5-67eb-474b-8bff-7fe6ee569162"
      },
      "execution_count": null,
      "outputs": [
        {
          "output_type": "stream",
          "name": "stdout",
          "text": [
            "              precision    recall  f1-score   support\n",
            "\n",
            "           0     0.9406    0.9406    0.9406      2289\n",
            "           1     0.9559    0.9559    0.9559      3081\n",
            "\n",
            "    accuracy                         0.9493      5370\n",
            "   macro avg     0.9482    0.9482    0.9482      5370\n",
            "weighted avg     0.9493    0.9493    0.9493      5370\n",
            "\n"
          ]
        }
      ]
    },
    {
      "cell_type": "code",
      "source": [
        "from sklearn.metrics import confusion_matrix\n",
        "\n",
        "matrix_clf = confusion_matrix(y_test, Pre_NB)\n",
        "import seaborn as sn\n",
        "import matplotlib.pyplot as plt\n",
        "\n",
        "sn.set(font_scale=1.4) \n",
        "sn.heatmap(matrix_clf, annot=True, annot_kws={\"size\": 16}, fmt='d') \n",
        "\n",
        "plt.xlabel('Predicted')\n",
        "plt.ylabel('True')\n",
        "plt.show()"
      ],
      "metadata": {
        "colab": {
          "base_uri": "https://localhost:8080/",
          "height": 295
        },
        "id": "8z-5oGHqEe_X",
        "outputId": "07fae967-0009-47d7-d651-1737c23b3c9d"
      },
      "execution_count": null,
      "outputs": [
        {
          "output_type": "display_data",
          "data": {
            "image/png": "[encoded data removed]",
            "text/plain": [
              "<Figure size 432x288 with 2 Axes>"
            ]
          },
          "metadata": {}
        }
      ]
    },
    {
      "cell_type": "code",
      "source": [
        "Out_CSV(Pre_NB,\"outNB\")"
      ],
      "metadata": {
        "id": "YY9l2CXDEfBL"
      },
      "execution_count": null,
      "outputs": []
    },
    {
      "cell_type": "code",
      "source": [
        "gender_trans(model_NB,\"H'Hen Niê\")"
      ],
      "metadata": {
        "colab": {
          "base_uri": "https://localhost:8080/"
        },
        "id": "TNhVdwcJEfDS",
        "outputId": "0be9d653-4921-4c2f-b1a7-7ccb4a58aaf6"
      },
      "execution_count": null,
      "outputs": [
        {
          "output_type": "stream",
          "name": "stdout",
          "text": [
            "Giới Tính: Nữ\n"
          ]
        }
      ]
    },
    {
      "cell_type": "markdown",
      "source": [
        "##SVM và GridSearchCV"
      ],
      "metadata": {
        "id": "6k6si7jfPjwx"
      }
    },
    {
      "cell_type": "code",
      "source": [
        "from sklearn import svm\n",
        "print(\"- Training ...\")\n",
        "model_SVM = svm.SVC()\n",
        "model_SVM.fit(X_train, y_train)\n",
        "print(\"- model - train complete\")"
      ],
      "metadata": {
        "colab": {
          "base_uri": "https://localhost:8080/"
        },
        "id": "wAIBJngHPpw_",
        "outputId": "9b7abb61-d0e2-4d3b-dfb7-293f0a0f8020"
      },
      "execution_count": null,
      "outputs": [
        {
          "output_type": "stream",
          "name": "stdout",
          "text": [
            "- Training ...\n",
            "- model - train complete\n"
          ]
        }
      ]
    },
    {
      "cell_type": "code",
      "source": [
        "print(\"- Predict ...\")\n",
        "Pre_SVM=model_SVM.predict(X_test)"
      ],
      "metadata": {
        "colab": {
          "base_uri": "https://localhost:8080/"
        },
        "id": "AryXogJ2PpzO",
        "outputId": "0264c077-69a5-4805-8d1f-fdd55bf9fe91"
      },
      "execution_count": null,
      "outputs": [
        {
          "output_type": "stream",
          "name": "stdout",
          "text": [
            "- Predict ...\n"
          ]
        }
      ]
    },
    {
      "cell_type": "code",
      "source": [
        "print(\"Accuracy: \" + str(accuracy_score(y_test, Pre_SVM)))\n",
        "print(\"Precision: \" + str(precision_score(y_test, Pre_SVM)))\n",
        "print(\"Recall: \" + str(recall_score(y_test, Pre_SVM)))\n",
        "print(\"F1-micro: \" + str(f1_score(y_test, Pre_SVM)))\n",
        "print(\"F1-macro: \" + str(f1_score(y_test, Pre_SVM, average='macro')))\n",
        "cf = confusion_matrix(y_test, Pre_SVM)"
      ],
      "metadata": {
        "colab": {
          "base_uri": "https://localhost:8080/"
        },
        "id": "sT73bGu1Pp1c",
        "outputId": "102886b9-36a0-467e-df25-fcda60b3af5f"
      },
      "execution_count": null,
      "outputs": [
        {
          "output_type": "stream",
          "name": "stdout",
          "text": [
            "Accuracy: 0.9530726256983241\n",
            "Precision: 0.9469194312796209\n",
            "Recall: 0.9727361246348588\n",
            "F1-micro: 0.9596541786743515\n",
            "F1-macro: 0.9517897061596057\n"
          ]
        }
      ]
    },
    {
      "cell_type": "code",
      "source": [
        "from sklearn.metrics import classification_report\n",
        "print(classification_report(y_test, Pre_SVM,digits=4)) "
      ],
      "metadata": {
        "colab": {
          "base_uri": "https://localhost:8080/"
        },
        "id": "WXkrEZZ2Pp3o",
        "outputId": "7c9c881a-167f-4186-adf7-0c9e2ea2ef58"
      },
      "execution_count": null,
      "outputs": [
        {
          "output_type": "stream",
          "name": "stdout",
          "text": [
            "              precision    recall  f1-score   support\n",
            "\n",
            "           0     0.9619    0.9266    0.9439      2289\n",
            "           1     0.9469    0.9727    0.9597      3081\n",
            "\n",
            "    accuracy                         0.9531      5370\n",
            "   macro avg     0.9544    0.9497    0.9518      5370\n",
            "weighted avg     0.9533    0.9531    0.9529      5370\n",
            "\n"
          ]
        }
      ]
    },
    {
      "cell_type": "code",
      "source": [
        "matrix_svm = confusion_matrix(y_test, Pre_SVM)\n",
        "sn.set(font_scale=1.4) \n",
        "sn.heatmap(matrix_svm, annot=True, annot_kws={\"size\": 16}, fmt='d') \n",
        "\n",
        "plt.xlabel('Predicted')\n",
        "plt.ylabel('True')\n",
        "plt.show()"
      ],
      "metadata": {
        "colab": {
          "base_uri": "https://localhost:8080/",
          "height": 295
        },
        "id": "L7FoVb66Pp59",
        "outputId": "24c44b80-b55b-4d3a-dc8c-b8d5155f46c1"
      },
      "execution_count": null,
      "outputs": [
        {
          "output_type": "display_data",
          "data": {
            "image/png": "[encoded data removed]",
            "text/plain": [
              "<Figure size 432x288 with 2 Axes>"
            ]
          },
          "metadata": {}
        }
      ]
    },
    {
      "cell_type": "code",
      "source": [
        "from sklearn.model_selection import GridSearchCV # link tham khảo:https://cafedev.vn/tu-hoc-ml-dieu-chinh-sieu-tham-so-svm-bang-gridsearchcv-ml/\n",
        "  \n",
        "# defining parameter range \n",
        "param_grid = {'C': [0.1, 1, 10,100],  \n",
        "              'gamma': [1, 0.1, 0.01,0.001], \n",
        "              'kernel': ['rbf']}  \n",
        "  \n",
        "grid = GridSearchCV(model_SVM, param_grid, refit = True, verbose = 3) \n",
        "  \n",
        "# fitting the model for grid search \n",
        "grid.fit(X_train, y_train) "
      ],
      "metadata": {
        "colab": {
          "base_uri": "https://localhost:8080/"
        },
        "id": "WXvTieoJPp8G",
        "outputId": "e0b968c1-4d9e-49c9-80d1-b9f8338d55cd"
      },
      "execution_count": null,
      "outputs": [
        {
          "output_type": "stream",
          "name": "stdout",
          "text": [
            "Fitting 5 folds for each of 16 candidates, totalling 80 fits\n",
            "[CV 1/5] END ........C=0.1, gamma=1, kernel=rbf;, score=0.847 total time=  16.3s\n",
            "[CV 2/5] END ........C=0.1, gamma=1, kernel=rbf;, score=0.845 total time=  17.1s\n",
            "[CV 3/5] END ........C=0.1, gamma=1, kernel=rbf;, score=0.849 total time=  17.3s\n",
            "[CV 4/5] END ........C=0.1, gamma=1, kernel=rbf;, score=0.848 total time=  12.6s\n",
            "[CV 5/5] END ........C=0.1, gamma=1, kernel=rbf;, score=0.847 total time=  14.9s\n",
            "[CV 1/5] END ......C=0.1, gamma=0.1, kernel=rbf;, score=0.907 total time=   7.6s\n",
            "[CV 2/5] END ......C=0.1, gamma=0.1, kernel=rbf;, score=0.904 total time=   8.9s\n",
            "[CV 3/5] END ......C=0.1, gamma=0.1, kernel=rbf;, score=0.903 total time=  10.7s\n",
            "[CV 4/5] END ......C=0.1, gamma=0.1, kernel=rbf;, score=0.906 total time=   9.3s\n",
            "[CV 5/5] END ......C=0.1, gamma=0.1, kernel=rbf;, score=0.900 total time=  10.6s\n",
            "[CV 1/5] END .....C=0.1, gamma=0.01, kernel=rbf;, score=0.841 total time=  12.2s\n",
            "[CV 2/5] END .....C=0.1, gamma=0.01, kernel=rbf;, score=0.840 total time=  10.1s\n",
            "[CV 3/5] END .....C=0.1, gamma=0.01, kernel=rbf;, score=0.844 total time=  10.7s\n",
            "[CV 4/5] END .....C=0.1, gamma=0.01, kernel=rbf;, score=0.841 total time=  11.5s\n",
            "[CV 5/5] END .....C=0.1, gamma=0.01, kernel=rbf;, score=0.840 total time=  10.1s\n",
            "[CV 1/5] END ....C=0.1, gamma=0.001, kernel=rbf;, score=0.576 total time=  22.2s\n",
            "[CV 2/5] END ....C=0.1, gamma=0.001, kernel=rbf;, score=0.576 total time=  22.2s\n",
            "[CV 3/5] END ....C=0.1, gamma=0.001, kernel=rbf;, score=0.576 total time=  20.0s\n",
            "[CV 4/5] END ....C=0.1, gamma=0.001, kernel=rbf;, score=0.576 total time=  23.2s\n",
            "[CV 5/5] END ....C=0.1, gamma=0.001, kernel=rbf;, score=0.576 total time=  21.1s\n",
            "[CV 1/5] END ..........C=1, gamma=1, kernel=rbf;, score=0.941 total time=  38.4s\n",
            "[CV 2/5] END ..........C=1, gamma=1, kernel=rbf;, score=0.944 total time=  42.4s\n",
            "[CV 3/5] END ..........C=1, gamma=1, kernel=rbf;, score=0.938 total time=  37.4s\n",
            "[CV 4/5] END ..........C=1, gamma=1, kernel=rbf;, score=0.940 total time=  36.9s\n",
            "[CV 5/5] END ..........C=1, gamma=1, kernel=rbf;, score=0.937 total time=  42.8s\n",
            "[CV 1/5] END ........C=1, gamma=0.1, kernel=rbf;, score=0.947 total time=   4.2s\n",
            "[CV 2/5] END ........C=1, gamma=0.1, kernel=rbf;, score=0.946 total time=   4.2s\n",
            "[CV 3/5] END ........C=1, gamma=0.1, kernel=rbf;, score=0.948 total time=   5.1s\n",
            "[CV 4/5] END ........C=1, gamma=0.1, kernel=rbf;, score=0.946 total time=   5.5s\n",
            "[CV 5/5] END ........C=1, gamma=0.1, kernel=rbf;, score=0.943 total time=   6.2s\n",
            "[CV 1/5] END .......C=1, gamma=0.01, kernel=rbf;, score=0.923 total time=   7.4s\n",
            "[CV 2/5] END .......C=1, gamma=0.01, kernel=rbf;, score=0.920 total time=   7.4s\n",
            "[CV 3/5] END .......C=1, gamma=0.01, kernel=rbf;, score=0.919 total time=   6.2s\n",
            "[CV 4/5] END .......C=1, gamma=0.01, kernel=rbf;, score=0.920 total time=   6.1s\n",
            "[CV 5/5] END .......C=1, gamma=0.01, kernel=rbf;, score=0.912 total time=   6.1s\n",
            "[CV 1/5] END ......C=1, gamma=0.001, kernel=rbf;, score=0.841 total time=   8.4s\n",
            "[CV 2/5] END ......C=1, gamma=0.001, kernel=rbf;, score=0.840 total time=   8.3s\n",
            "[CV 3/5] END ......C=1, gamma=0.001, kernel=rbf;, score=0.844 total time=   8.4s\n",
            "[CV 4/5] END ......C=1, gamma=0.001, kernel=rbf;, score=0.841 total time=   8.5s\n",
            "[CV 5/5] END ......C=1, gamma=0.001, kernel=rbf;, score=0.840 total time=   8.4s\n",
            "[CV 1/5] END .........C=10, gamma=1, kernel=rbf;, score=0.940 total time=  27.3s\n",
            "[CV 2/5] END .........C=10, gamma=1, kernel=rbf;, score=0.942 total time=  27.8s\n",
            "[CV 3/5] END .........C=10, gamma=1, kernel=rbf;, score=0.938 total time=  27.5s\n",
            "[CV 4/5] END .........C=10, gamma=1, kernel=rbf;, score=0.940 total time=  27.2s\n",
            "[CV 5/5] END .........C=10, gamma=1, kernel=rbf;, score=0.939 total time=  27.3s\n",
            "[CV 1/5] END .......C=10, gamma=0.1, kernel=rbf;, score=0.952 total time=   4.9s\n",
            "[CV 2/5] END .......C=10, gamma=0.1, kernel=rbf;, score=0.953 total time=   5.0s\n",
            "[CV 3/5] END .......C=10, gamma=0.1, kernel=rbf;, score=0.953 total time=   4.7s\n",
            "[CV 4/5] END .......C=10, gamma=0.1, kernel=rbf;, score=0.948 total time=   4.7s\n",
            "[CV 5/5] END .......C=10, gamma=0.1, kernel=rbf;, score=0.950 total time=   4.7s\n",
            "[CV 1/5] END ......C=10, gamma=0.01, kernel=rbf;, score=0.945 total time=   3.9s\n",
            "[CV 2/5] END ......C=10, gamma=0.01, kernel=rbf;, score=0.944 total time=   4.0s\n",
            "[CV 3/5] END ......C=10, gamma=0.01, kernel=rbf;, score=0.948 total time=   3.9s\n",
            "[CV 4/5] END ......C=10, gamma=0.01, kernel=rbf;, score=0.946 total time=   4.0s\n",
            "[CV 5/5] END ......C=10, gamma=0.01, kernel=rbf;, score=0.943 total time=   3.9s\n",
            "[CV 1/5] END .....C=10, gamma=0.001, kernel=rbf;, score=0.924 total time=   6.2s\n",
            "[CV 2/5] END .....C=10, gamma=0.001, kernel=rbf;, score=0.920 total time=   6.1s\n",
            "[CV 3/5] END .....C=10, gamma=0.001, kernel=rbf;, score=0.919 total time=   6.1s\n",
            "[CV 4/5] END .....C=10, gamma=0.001, kernel=rbf;, score=0.920 total time=   6.1s\n",
            "[CV 5/5] END .....C=10, gamma=0.001, kernel=rbf;, score=0.913 total time=   6.1s\n",
            "[CV 1/5] END ........C=100, gamma=1, kernel=rbf;, score=0.940 total time=  27.4s\n",
            "[CV 2/5] END ........C=100, gamma=1, kernel=rbf;, score=0.940 total time=  27.9s\n",
            "[CV 3/5] END ........C=100, gamma=1, kernel=rbf;, score=0.936 total time=  28.0s\n",
            "[CV 4/5] END ........C=100, gamma=1, kernel=rbf;, score=0.939 total time=  27.5s\n",
            "[CV 5/5] END ........C=100, gamma=1, kernel=rbf;, score=0.938 total time=  27.7s\n",
            "[CV 1/5] END ......C=100, gamma=0.1, kernel=rbf;, score=0.943 total time=   6.6s\n",
            "[CV 2/5] END ......C=100, gamma=0.1, kernel=rbf;, score=0.942 total time=   6.9s\n",
            "[CV 3/5] END ......C=100, gamma=0.1, kernel=rbf;, score=0.938 total time=   6.6s\n",
            "[CV 4/5] END ......C=100, gamma=0.1, kernel=rbf;, score=0.943 total time=   6.2s\n",
            "[CV 5/5] END ......C=100, gamma=0.1, kernel=rbf;, score=0.942 total time=   6.2s\n",
            "[CV 1/5] END .....C=100, gamma=0.01, kernel=rbf;, score=0.953 total time=   4.3s\n",
            "[CV 2/5] END .....C=100, gamma=0.01, kernel=rbf;, score=0.953 total time=   4.5s\n",
            "[CV 3/5] END .....C=100, gamma=0.01, kernel=rbf;, score=0.954 total time=   4.3s\n",
            "[CV 4/5] END .....C=100, gamma=0.01, kernel=rbf;, score=0.949 total time=   4.2s\n",
            "[CV 5/5] END .....C=100, gamma=0.01, kernel=rbf;, score=0.947 total time=   4.1s\n",
            "[CV 1/5] END ....C=100, gamma=0.001, kernel=rbf;, score=0.945 total time=   3.9s\n",
            "[CV 2/5] END ....C=100, gamma=0.001, kernel=rbf;, score=0.944 total time=   4.1s\n",
            "[CV 3/5] END ....C=100, gamma=0.001, kernel=rbf;, score=0.947 total time=   4.0s\n",
            "[CV 4/5] END ....C=100, gamma=0.001, kernel=rbf;, score=0.944 total time=   4.0s\n",
            "[CV 5/5] END ....C=100, gamma=0.001, kernel=rbf;, score=0.942 total time=   4.0s\n"
          ]
        },
        {
          "output_type": "execute_result",
          "data": {
            "text/plain": [
              "GridSearchCV(estimator=SVC(),\n",
              "             param_grid={'C': [0.1, 1, 10, 100], 'gamma': [1, 0.1, 0.01, 0.001],\n",
              "                         'kernel': ['rbf']},\n",
              "             verbose=3)"
            ]
          },
          "metadata": {},
          "execution_count": 34
        }
      ]
    },
    {
      "cell_type": "code",
      "source": [
        "print(\"Thông số tốt nhất:\",grid.best_params_) \n",
        "print(\"Công cụ ướng tính tốt nhất:\",grid.best_estimator_) "
      ],
      "metadata": {
        "colab": {
          "base_uri": "https://localhost:8080/"
        },
        "id": "7--qWX5uPqBf",
        "outputId": "3c1fc252-50b8-4ba9-ba80-d2f12f62d4bb"
      },
      "execution_count": null,
      "outputs": [
        {
          "output_type": "stream",
          "name": "stdout",
          "text": [
            "Thông số tốt nhất: {'C': 100, 'gamma': 0.01, 'kernel': 'rbf'}\n",
            "Công cụ ướng tính tốt nhất: SVC(C=100, gamma=0.01)\n"
          ]
        }
      ]
    },
    {
      "cell_type": "code",
      "source": [
        "matrix_svm = confusion_matrix(y_test, predictions)\n",
        "sn.set(font_scale=1.4) \n",
        "sn.heatmap(matrix_svm, annot=True, annot_kws={\"size\": 16}, fmt='d') \n",
        "\n",
        "plt.xlabel('Predicted')\n",
        "plt.ylabel('True')\n",
        "plt.show()"
      ],
      "metadata": {
        "colab": {
          "base_uri": "https://localhost:8080/",
          "height": 295
        },
        "id": "SHHqq-QUPqD3",
        "outputId": "c202012d-4fb9-4710-d55a-7a5065fc6630"
      },
      "execution_count": null,
      "outputs": [
        {
          "output_type": "display_data",
          "data": {
            "image/png": "[encoded data removed]",
            "text/plain": [
              "<Figure size 432x288 with 2 Axes>"
            ]
          },
          "metadata": {}
        }
      ]
    },
    {
      "cell_type": "code",
      "source": [
        "#Tinh chỉnh siêu thông số\n",
        "print(\"- Training ...\")\n",
        "model_best_SVM = svm.SVC(C=100, gamma=0.01, kernel= 'rbf')\n",
        "model_best_SVM.fit(X_train, y_train)\n",
        "print(\"- model - train complete\")"
      ],
      "metadata": {
        "colab": {
          "base_uri": "https://localhost:8080/"
        },
        "id": "-kVBVztGf3vA",
        "outputId": "a6c5decf-d3c6-4f74-ff18-e9c058777cdb"
      },
      "execution_count": 50,
      "outputs": [
        {
          "output_type": "stream",
          "name": "stdout",
          "text": [
            "- Training ...\n",
            "- model - train complete\n"
          ]
        }
      ]
    },
    {
      "cell_type": "code",
      "source": [
        "print(\"- Predict ...\")\n",
        "Pre_best_SVM=model_best_SVM.predict(X_test)"
      ],
      "metadata": {
        "colab": {
          "base_uri": "https://localhost:8080/"
        },
        "id": "5qoWVKNhgQyn",
        "outputId": "d9216faf-5829-4457-bff2-ade49780ab3d"
      },
      "execution_count": 51,
      "outputs": [
        {
          "output_type": "stream",
          "name": "stdout",
          "text": [
            "- Predict ...\n"
          ]
        }
      ]
    },
    {
      "cell_type": "code",
      "source": [
        "from sklearn.metrics import classification_report\n",
        "print(classification_report(y_test, Pre_best_SVM,digits=4)) "
      ],
      "metadata": {
        "colab": {
          "base_uri": "https://localhost:8080/"
        },
        "id": "oRJXtj9ggdSO",
        "outputId": "970438a1-b927-4119-b790-4b7585a40a80"
      },
      "execution_count": 52,
      "outputs": [
        {
          "output_type": "stream",
          "name": "stdout",
          "text": [
            "              precision    recall  f1-score   support\n",
            "\n",
            "           0     0.9567    0.9358    0.9461      2289\n",
            "           1     0.9531    0.9685    0.9607      3081\n",
            "\n",
            "    accuracy                         0.9546      5370\n",
            "   macro avg     0.9549    0.9521    0.9534      5370\n",
            "weighted avg     0.9546    0.9546    0.9545      5370\n",
            "\n"
          ]
        }
      ]
    },
    {
      "cell_type": "code",
      "source": [
        "gender_trans(model_best_SVM,\"Nguyễn Ngọc Thủy\")"
      ],
      "metadata": {
        "colab": {
          "base_uri": "https://localhost:8080/"
        },
        "id": "VJpMczxdRN6w",
        "outputId": "3d2af5b7-2778-43a5-c0b3-352c004d6798"
      },
      "execution_count": 72,
      "outputs": [
        {
          "output_type": "stream",
          "name": "stdout",
          "text": [
            "Giới Tính: Nữ\n"
          ]
        }
      ]
    },
    {
      "cell_type": "markdown",
      "source": [
        "##Logistic regression"
      ],
      "metadata": {
        "id": "3zqLo0X6Ra4H"
      }
    },
    {
      "cell_type": "code",
      "source": [
        "from sklearn.linear_model import LogisticRegression\n",
        "from scipy.stats import uniform\n",
        "from sklearn.model_selection import RandomizedSearchCV"
      ],
      "metadata": {
        "id": "PXGu42ACRd3n"
      },
      "execution_count": 84,
      "outputs": []
    },
    {
      "cell_type": "code",
      "source": [
        "print(\"- Training ...\")\n",
        "model_Lg = LogisticRegression()\n",
        "model_Lg.fit(X_train, y_train)\n",
        "print(\"- model - train complete\")"
      ],
      "metadata": {
        "colab": {
          "base_uri": "https://localhost:8080/"
        },
        "id": "2V5ke18lRd5u",
        "outputId": "8bc04c1c-4e0d-4852-9fe1-c0daf2101c92"
      },
      "execution_count": 85,
      "outputs": [
        {
          "output_type": "stream",
          "name": "stdout",
          "text": [
            "- Training ...\n",
            "- model - train complete\n"
          ]
        }
      ]
    },
    {
      "cell_type": "code",
      "source": [
        "print(\"- Predict ...\")\n",
        "Pre_Lg=model_Lg.predict(X_test)"
      ],
      "metadata": {
        "colab": {
          "base_uri": "https://localhost:8080/"
        },
        "id": "lCnDUHaTRd75",
        "outputId": "dadf5f1b-f8eb-4fd6-c113-38d8ba6741e9"
      },
      "execution_count": 86,
      "outputs": [
        {
          "output_type": "stream",
          "name": "stdout",
          "text": [
            "- Predict ...\n"
          ]
        }
      ]
    },
    {
      "cell_type": "code",
      "source": [
        "from sklearn.metrics import accuracy_score, precision_score, recall_score, f1_score\n",
        "from sklearn.metrics import confusion_matrix\n",
        "print(\"Accuracy: \" + str(accuracy_score(y_test, Pre_Lg)))\n",
        "print(\"Precision: \" + str(precision_score(y_test, Pre_Lg)))\n",
        "print(\"Recall: \" + str(recall_score(y_test, Pre_Lg)))\n",
        "print(\"F1-micro: \" + str(f1_score(y_test, Pre_Lg)))\n",
        "print(\"F1-macro: \" + str(f1_score(y_test, Pre_Lg, average='macro')))\n",
        "cf = confusion_matrix(y_test, Pre_Lg)"
      ],
      "metadata": {
        "colab": {
          "base_uri": "https://localhost:8080/"
        },
        "id": "qqrq0_rnRd9_",
        "outputId": "e86bfccf-78cd-4c08-abbe-26f7c952677f"
      },
      "execution_count": 87,
      "outputs": [
        {
          "output_type": "stream",
          "name": "stdout",
          "text": [
            "Accuracy: 0.9547486033519553\n",
            "Precision: 0.9504761904761905\n",
            "Recall: 0.9717624148003895\n",
            "F1-micro: 0.9610014443909485\n",
            "F1-macro: 0.9535546144110431\n"
          ]
        }
      ]
    },
    {
      "cell_type": "code",
      "source": [
        "from sklearn.metrics import classification_report\n",
        "print(classification_report(y_test, Pre_Lg,digits=4)) "
      ],
      "metadata": {
        "colab": {
          "base_uri": "https://localhost:8080/"
        },
        "id": "9na_JsjaReAT",
        "outputId": "a495bc27-a854-44a5-ae99-c78bf345cce1"
      },
      "execution_count": 88,
      "outputs": [
        {
          "output_type": "stream",
          "name": "stdout",
          "text": [
            "              precision    recall  f1-score   support\n",
            "\n",
            "           0     0.9608    0.9318    0.9461      2289\n",
            "           1     0.9505    0.9718    0.9610      3081\n",
            "\n",
            "    accuracy                         0.9547      5370\n",
            "   macro avg     0.9556    0.9518    0.9536      5370\n",
            "weighted avg     0.9549    0.9547    0.9547      5370\n",
            "\n"
          ]
        }
      ]
    },
    {
      "cell_type": "code",
      "source": [
        "matrix_lg = confusion_matrix(y_test, Pre_Lg)\n",
        "sn.set(font_scale=1.4) \n",
        "sn.heatmap(matrix_lg, annot=True, annot_kws={\"size\": 16}, fmt='d') \n",
        "\n",
        "plt.xlabel('Predicted')\n",
        "plt.ylabel('True')  \n",
        "plt.show()"
      ],
      "metadata": {
        "colab": {
          "base_uri": "https://localhost:8080/",
          "height": 295
        },
        "id": "YZPSjO6KReCW",
        "outputId": "b2c99f42-5ff6-46f9-f780-78a911f5997d"
      },
      "execution_count": 89,
      "outputs": [
        {
          "output_type": "display_data",
          "data": {
            "image/png": "[encoded data removed]",
            "text/plain": [
              "<Figure size 432x288 with 2 Axes>"
            ]
          },
          "metadata": {}
        }
      ]
    },
    {
      "cell_type": "code",
      "source": [
        "# Create regularization penalty space\n",
        "penalty = ['l1', 'l2']\n",
        "\n",
        "# Create regularization hyperparameter distribution using uniform distribution\n",
        "C = uniform(loc=0, scale=4)\n",
        "\n",
        "# Create hyperparameter options\n",
        "hyperparameters = dict(C=C, penalty=penalty)"
      ],
      "metadata": {
        "id": "dqRWTN6CReEv"
      },
      "execution_count": 90,
      "outputs": []
    },
    {
      "cell_type": "code",
      "source": [
        "clf = RandomizedSearchCV(model_Lg, hyperparameters, random_state=1, n_iter=100, cv=5, verbose=0, n_jobs=-1)"
      ],
      "metadata": {
        "id": "1Q3fr0dnReG7"
      },
      "execution_count": 91,
      "outputs": []
    },
    {
      "cell_type": "code",
      "source": [
        "best_model_Lg = clf.fit(X_train, y_train)"
      ],
      "metadata": {
        "id": "37ctmIRpR3g5",
        "colab": {
          "base_uri": "https://localhost:8080/"
        },
        "outputId": "642a8b7e-b362-49cb-9b4e-69a9fdf889ee"
      },
      "execution_count": 92,
      "outputs": [
        {
          "output_type": "stream",
          "name": "stderr",
          "text": [
            "/usr/local/lib/python3.7/dist-packages/sklearn/model_selection/_validation.py:372: FitFailedWarning: \n",
            "230 fits failed out of a total of 500.\n",
            "The score on these train-test partitions for these parameters will be set to nan.\n",
            "If these failures are not expected, you can try to debug them by setting error_score='raise'.\n",
            "\n",
            "Below are more details about the failures:\n",
            "--------------------------------------------------------------------------------\n",
            "230 fits failed with the following error:\n",
            "Traceback (most recent call last):\n",
            "  File \"/usr/local/lib/python3.7/dist-packages/sklearn/model_selection/_validation.py\", line 681, in _fit_and_score\n",
            "    estimator.fit(X_train, y_train, **fit_params)\n",
            "  File \"/usr/local/lib/python3.7/dist-packages/sklearn/linear_model/_logistic.py\", line 1461, in fit\n",
            "    solver = _check_solver(self.solver, self.penalty, self.dual)\n",
            "  File \"/usr/local/lib/python3.7/dist-packages/sklearn/linear_model/_logistic.py\", line 449, in _check_solver\n",
            "    % (solver, penalty)\n",
            "ValueError: Solver lbfgs supports only 'l2' or 'none' penalties, got l1 penalty.\n",
            "\n",
            "  warnings.warn(some_fits_failed_message, FitFailedWarning)\n",
            "/usr/local/lib/python3.7/dist-packages/sklearn/model_selection/_search.py:972: UserWarning: One or more of the test scores are non-finite: [       nan 0.95179569 0.95137005 0.95046555 0.94961426 0.95179569\n",
            "        nan        nan        nan        nan 0.95179569 0.95131684\n",
            "        nan 0.95174248 0.95174248 0.94658154        nan        nan\n",
            " 0.94088853        nan 0.94684757 0.95179569        nan 0.95115722\n",
            "        nan 0.95168928 0.95174248 0.95168928 0.95105081 0.95019952\n",
            " 0.95137005        nan        nan 0.95168928        nan        nan\n",
            " 0.95152966 0.95168928        nan        nan 0.94722001 0.95174248\n",
            "        nan        nan        nan 0.95174248 0.95174248 0.95158287\n",
            "        nan 0.9518489         nan        nan 0.95174248        nan\n",
            " 0.95174248        nan        nan        nan        nan        nan\n",
            " 0.94737962        nan        nan        nan        nan 0.95137005\n",
            "        nan        nan 0.95168928 0.95131684        nan        nan\n",
            " 0.9518489  0.94487896        nan        nan 0.94450652 0.95152966\n",
            " 0.95179569 0.95168928 0.93242884        nan 0.95057196 0.95115722\n",
            " 0.95168928        nan 0.95105081        nan 0.95174248 0.95163607\n",
            " 0.95041234 0.95168928        nan 0.95163607        nan        nan\n",
            "        nan 0.95174248 0.95174248 0.95168928]\n",
            "  category=UserWarning,\n"
          ]
        }
      ]
    },
    {
      "cell_type": "code",
      "source": [
        "print('Penalty tốt nhất:', best_model_Lg.best_estimator_.get_params()['penalty'])\n",
        "print('C tốt nhất:', best_model_Lg.best_estimator_.get_params()['C'])"
      ],
      "metadata": {
        "id": "7RWnvyFaR3jH",
        "colab": {
          "base_uri": "https://localhost:8080/"
        },
        "outputId": "ddd92db3-a25e-4fc5-86a6-5445889aebb9"
      },
      "execution_count": 93,
      "outputs": [
        {
          "output_type": "stream",
          "name": "stdout",
          "text": [
            "Penalty tốt nhất: l2\n",
            "C tốt nhất: 1.5103373646043785\n"
          ]
        }
      ]
    },
    {
      "cell_type": "code",
      "source": [
        "#Tinh Chỉnh Siêu Tham Số\n",
        "print(\"- Training ...\")\n",
        "model_best_Lg = LogisticRegression(C= 1.5103373646043785,penalty= 'l2')\n",
        "model_best_Lg.fit(X_train, y_train)\n",
        "print(\"- model - train complete\")"
      ],
      "metadata": {
        "colab": {
          "base_uri": "https://localhost:8080/"
        },
        "id": "aALsoTyNg9bo",
        "outputId": "78f8873d-c870-4766-803e-be5e91a8a32d"
      },
      "execution_count": 94,
      "outputs": [
        {
          "output_type": "stream",
          "name": "stdout",
          "text": [
            "- Training ...\n",
            "- model - train complete\n"
          ]
        }
      ]
    },
    {
      "cell_type": "code",
      "source": [
        "Pre_best_Lg=model_best_Lg.predict(X_test)"
      ],
      "metadata": {
        "id": "MhUA-nSbhW9Q"
      },
      "execution_count": 95,
      "outputs": []
    },
    {
      "cell_type": "code",
      "source": [
        "from sklearn.metrics import classification_report\n",
        "print(classification_report(y_test, Pre_best_Lg,digits=4)) "
      ],
      "metadata": {
        "colab": {
          "base_uri": "https://localhost:8080/"
        },
        "id": "NC7PxAZXhfJv",
        "outputId": "cb12ce29-997f-4d43-e79b-8873411f86cf"
      },
      "execution_count": 96,
      "outputs": [
        {
          "output_type": "stream",
          "name": "stdout",
          "text": [
            "              precision    recall  f1-score   support\n",
            "\n",
            "           0     0.9604    0.9336    0.9468      2289\n",
            "           1     0.9517    0.9714    0.9615      3081\n",
            "\n",
            "    accuracy                         0.9553      5370\n",
            "   macro avg     0.9561    0.9525    0.9541      5370\n",
            "weighted avg     0.9554    0.9553    0.9552      5370\n",
            "\n"
          ]
        }
      ]
    },
    {
      "cell_type": "code",
      "source": [
        "gender_trans(model_best_Lg,\"Nguyễn Minh Quân\")"
      ],
      "metadata": {
        "id": "VW7o4bFlSBeH",
        "colab": {
          "base_uri": "https://localhost:8080/"
        },
        "outputId": "1ce6604e-f7b1-4ed6-9265-c4179f89b8c3"
      },
      "execution_count": 102,
      "outputs": [
        {
          "output_type": "stream",
          "name": "stdout",
          "text": [
            "Giới Tính: Nam\n"
          ]
        }
      ]
    },
    {
      "cell_type": "markdown",
      "source": [
        "##KNN"
      ],
      "metadata": {
        "id": "rJxKIyHvSPAf"
      }
    },
    {
      "cell_type": "code",
      "source": [
        "from sklearn.neighbors import KNeighborsClassifier"
      ],
      "metadata": {
        "id": "1K5PMfGxSQOx"
      },
      "execution_count": null,
      "outputs": []
    },
    {
      "cell_type": "code",
      "source": [
        "print(\"- Training ...\")\n",
        "model_KNN = KNeighborsClassifier(n_neighbors=6)\n",
        "model_KNN.fit(X_train, y_train)\n",
        "print(\"- model - train complete\")"
      ],
      "metadata": {
        "id": "KgYiw-ASSQTN"
      },
      "execution_count": null,
      "outputs": []
    },
    {
      "cell_type": "code",
      "source": [
        "print(\"- Predict ...\")\n",
        "Pre_KNN= model_KNN.predict(X_test)"
      ],
      "metadata": {
        "id": "x26cJrV7SQVj"
      },
      "execution_count": null,
      "outputs": []
    },
    {
      "cell_type": "code",
      "source": [
        "from sklearn.metrics import accuracy_score, precision_score, recall_score, f1_score\n",
        "print(\"Accuracy: \" + str(accuracy_score(y_test, Pre_KNN)))\n",
        "print(\"Precision: \" + str(precision_score(y_test, Pre_KNN)))\n",
        "print(\"Recall: \" + str(recall_score(y_test, Pre_KNN)))\n",
        "print(\"F1-micro: \" + str(f1_score(y_test, Pre_KNN)))\n",
        "print(\"F1-macro: \" + str(f1_score(y_test, Pre_KNN, average='macro')))\n",
        "cf = confusion_matrix(y_test, Pre_KNN)"
      ],
      "metadata": {
        "id": "tEpCi2AUSQXf"
      },
      "execution_count": null,
      "outputs": []
    },
    {
      "cell_type": "code",
      "source": [
        "from sklearn.metrics import classification_report\n",
        "print(classification_report(y_test, Pre_KNN,digits=4)) "
      ],
      "metadata": {
        "id": "52NRnGYWSnBX"
      },
      "execution_count": null,
      "outputs": []
    },
    {
      "cell_type": "code",
      "source": [
        "matrix_knn = confusion_matrix(y_test, Pre_KNN)\n",
        "sn.set(font_scale=1.4) \n",
        "sn.heatmap(matrix_knn, annot=True, annot_kws={\"size\": 16}, fmt='d') \n",
        "\n",
        "plt.xlabel('Predicted')\n",
        "plt.ylabel('True')\n",
        "plt.show()"
      ],
      "metadata": {
        "id": "zpi4D4u0Sowf"
      },
      "execution_count": null,
      "outputs": []
    },
    {
      "cell_type": "code",
      "source": [
        "knn2 = KNeighborsClassifier()\n",
        "#create a dictionary of all values we want to test for n_neighbors\n",
        "param_grid = {\"n_neighbors\": np.arange(1, 25)}\n",
        "#use gridsearch to test all values for n_neighbors\n",
        "knn_gscv = GridSearchCV(knn2, param_grid, cv=5)\n",
        "#fit model to data\n",
        "knn_gscv.fit(X_train, y_train)\n",
        "\n",
        "#check top performing n_neighbors value\n",
        "print(\"Best parameter: {}\".format(knn_gscv.best_params_))\n",
        "\n",
        "#check the best score\n",
        "print(\"Best score: {}\".format(knn_gscv.best_score_))"
      ],
      "metadata": {
        "id": "gvVeLoncSpog"
      },
      "execution_count": null,
      "outputs": []
    },
    {
      "cell_type": "markdown",
      "source": [
        "##Decision Tree"
      ],
      "metadata": {
        "id": "jFsRiV0BSwAA"
      }
    },
    {
      "cell_type": "code",
      "source": [
        "from sklearn.tree import DecisionTreeClassifier"
      ],
      "metadata": {
        "id": "zy62zWdvSpqg"
      },
      "execution_count": null,
      "outputs": []
    },
    {
      "cell_type": "code",
      "source": [
        "print(\"- Training ...\")\n",
        "model_DT = DecisionTreeClassifier(random_state=0,max_depth=65)\n",
        "model_DT.fit(X_train,y_train)\n",
        "print(\"- model - train complete\")"
      ],
      "metadata": {
        "id": "jcg3u8xlSps5"
      },
      "execution_count": null,
      "outputs": []
    },
    {
      "cell_type": "code",
      "source": [
        "print(\"- Predict ...\")\n",
        "Pre_DT = model_DT.predict(X_test)"
      ],
      "metadata": {
        "id": "iuBnMsk_S2pI"
      },
      "execution_count": null,
      "outputs": []
    },
    {
      "cell_type": "code",
      "source": [
        "from sklearn.metrics import accuracy_score, precision_score, recall_score, f1_score\n",
        "print(\"Accuracy: \" + str(accuracy_score(y_test, Pre_DT)))\n",
        "print(\"Precision: \" + str(precision_score(y_test, Pre_DT)))\n",
        "print(\"Recall: \" + str(recall_score(y_test, Pre_DT)))\n",
        "print(\"F1-micro: \" + str(f1_score(y_test, Pre_DT)))\n",
        "print(\"F1-macro: \" + str(f1_score(y_test, Pre_DT, average='macro')))\n",
        "cf = confusion_matrix(y_test, Pre_DT)"
      ],
      "metadata": {
        "id": "76O2EJe1S2rR"
      },
      "execution_count": null,
      "outputs": []
    },
    {
      "cell_type": "code",
      "source": [
        "from sklearn.metrics import classification_report\n",
        "print(classification_report(y_test, Pre_DT,digits=4)) "
      ],
      "metadata": {
        "id": "v0nvg6GES2ta"
      },
      "execution_count": null,
      "outputs": []
    },
    {
      "cell_type": "code",
      "source": [
        "matrix_DT = confusion_matrix(y_test, Pre_DT)\n",
        "sn.set(font_scale=1.4) \n",
        "sn.heatmap(matrix_DT, annot=True, annot_kws={\"size\": 16}, fmt='d') \n",
        "\n",
        "plt.xlabel('Predicted')\n",
        "plt.ylabel('True')\n",
        "plt.show()"
      ],
      "metadata": {
        "id": "zqByvfCKS2vp"
      },
      "execution_count": null,
      "outputs": []
    },
    {
      "cell_type": "code",
      "source": [
        "matrix_DT = confusion_matrix(y_test, Pre_DT)\n",
        "sn.set(font_scale=1.4) \n",
        "sn.heatmap(matrix_DT, annot=True, annot_kws={\"size\": 16}, fmt='d') \n",
        "\n",
        "plt.xlabel('Predicted')\n",
        "plt.ylabel('True')\n",
        "plt.show()"
      ],
      "metadata": {
        "id": "z_iqV6O_S2yN"
      },
      "execution_count": null,
      "outputs": []
    }
  ]
}